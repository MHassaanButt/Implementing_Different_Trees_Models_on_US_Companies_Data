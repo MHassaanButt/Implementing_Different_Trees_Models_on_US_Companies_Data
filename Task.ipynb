{
 "cells": [
  {
   "cell_type": "markdown",
   "id": "Q-uU_DaJRsJg",
   "metadata": {
    "id": "Q-uU_DaJRsJg"
   },
   "source": [
    "## Mounting Google drive if dataset is uploaded on Gdrive"
   ]
  },
  {
   "cell_type": "code",
   "execution_count": 1,
   "id": "HG4-nnz78jD1",
   "metadata": {
    "colab": {
     "base_uri": "https://localhost:8080/",
     "height": 0
    },
    "id": "HG4-nnz78jD1",
    "outputId": "bb6318e1-001f-4572-e60c-b6d93cc0c89d"
   },
   "outputs": [
    {
     "name": "stdout",
     "output_type": "stream",
     "text": [
      "Drive already mounted at /content/drive; to attempt to forcibly remount, call drive.mount(\"/content/drive\", force_remount=True).\n"
     ]
    }
   ],
   "source": [
    "# from google.colab import drive\n",
    "# drive.mount('/content/drive')"
   ]
  },
  {
   "cell_type": "markdown",
   "id": "y_A0QeSWSTp3",
   "metadata": {
    "id": "y_A0QeSWSTp3"
   },
   "source": [
    "## Importing important Labraries"
   ]
  },
  {
   "cell_type": "code",
   "execution_count": 2,
   "id": "1296411e",
   "metadata": {
    "colab": {
     "base_uri": "https://localhost:8080/",
     "height": 0
    },
    "id": "1296411e",
    "outputId": "a3ae667b-77fa-470f-9117-128929cf42ab"
   },
   "outputs": [
    {
     "name": "stdout",
     "output_type": "stream",
     "text": [
      "Requirement already satisfied: pyreadstat in /usr/local/lib/python3.7/dist-packages (1.1.4)\n",
      "Requirement already satisfied: pandas>=1.2.0 in /usr/local/lib/python3.7/dist-packages (from pyreadstat) (1.3.5)\n",
      "Requirement already satisfied: pytz>=2017.3 in /usr/local/lib/python3.7/dist-packages (from pandas>=1.2.0->pyreadstat) (2018.9)\n",
      "Requirement already satisfied: numpy>=1.17.3 in /usr/local/lib/python3.7/dist-packages (from pandas>=1.2.0->pyreadstat) (1.21.5)\n",
      "Requirement already satisfied: python-dateutil>=2.7.3 in /usr/local/lib/python3.7/dist-packages (from pandas>=1.2.0->pyreadstat) (2.8.2)\n",
      "Requirement already satisfied: six>=1.5 in /usr/local/lib/python3.7/dist-packages (from python-dateutil>=2.7.3->pandas>=1.2.0->pyreadstat) (1.15.0)\n"
     ]
    }
   ],
   "source": [
    "!pip install pyreadstat"
   ]
  },
  {
   "cell_type": "code",
   "execution_count": 3,
   "id": "0dc56588",
   "metadata": {
    "id": "0dc56588"
   },
   "outputs": [],
   "source": [
    "import pyreadstat\n",
    "import numpy as np\n",
    "from sklearn.model_selection import train_test_split\n",
    "from sklearn.tree import DecisionTreeRegressor\n",
    "from sklearn.ensemble import BaggingRegressor,RandomForestRegressor, GradientBoostingRegressor\n",
    "from sklearn.metrics import mean_squared_error, r2_score, mean_absolute_error\n",
    "import matplotlib.pyplot as plt\n",
    "import matplotlib.cm as cm\n",
    "import seaborn as sns"
   ]
  },
  {
   "cell_type": "markdown",
   "id": "5XVIU4P7Si95",
   "metadata": {
    "id": "5XVIU4P7Si95"
   },
   "source": [
    "## Reading Dataset"
   ]
  },
  {
   "cell_type": "code",
   "execution_count": 4,
   "id": "52e4a21c",
   "metadata": {
    "id": "52e4a21c"
   },
   "outputs": [],
   "source": [
    "dtafile = 'USCompanies_data_winsorized.dta'\n",
    "df, meta = pyreadstat.read_dta(dtafile)"
   ]
  },
  {
   "cell_type": "markdown",
   "id": "D8dDqj08Slt1",
   "metadata": {
    "id": "D8dDqj08Slt1"
   },
   "source": [
    "## Dataset First five Rows and ClassNames"
   ]
  },
  {
   "cell_type": "code",
   "execution_count": 5,
   "id": "00a43ca6",
   "metadata": {
    "colab": {
     "base_uri": "https://localhost:8080/",
     "height": 421
    },
    "id": "00a43ca6",
    "outputId": "6c31688f-2e28-4ead-ff42-0b930c0e7e95"
   },
   "outputs": [
    {
     "data": {
      "text/html": [
       "\n",
       "  <div id=\"df-37dfcb24-6e1f-4324-a922-322c480e302d\">\n",
       "    <div class=\"colab-df-container\">\n",
       "      <div>\n",
       "<style scoped>\n",
       "    .dataframe tbody tr th:only-of-type {\n",
       "        vertical-align: middle;\n",
       "    }\n",
       "\n",
       "    .dataframe tbody tr th {\n",
       "        vertical-align: top;\n",
       "    }\n",
       "\n",
       "    .dataframe thead th {\n",
       "        text-align: right;\n",
       "    }\n",
       "</style>\n",
       "<table border=\"1\" class=\"dataframe\">\n",
       "  <thead>\n",
       "    <tr style=\"text-align: right;\">\n",
       "      <th></th>\n",
       "      <th>conm</th>\n",
       "      <th>pe_w</th>\n",
       "      <th>aco_w</th>\n",
       "      <th>ap_w</th>\n",
       "      <th>aqc_w</th>\n",
       "      <th>at_w</th>\n",
       "      <th>bkvlps_w</th>\n",
       "      <th>caps_w</th>\n",
       "      <th>capx_w</th>\n",
       "      <th>ceq_w</th>\n",
       "      <th>...</th>\n",
       "      <th>sale_w</th>\n",
       "      <th>siv_w</th>\n",
       "      <th>teq_w</th>\n",
       "      <th>tstk_w</th>\n",
       "      <th>txt_w</th>\n",
       "      <th>roa_w</th>\n",
       "      <th>roe_w</th>\n",
       "      <th>profit_margin_w</th>\n",
       "      <th>asset_turnover_w</th>\n",
       "      <th>operating_margin_w</th>\n",
       "    </tr>\n",
       "  </thead>\n",
       "  <tbody>\n",
       "    <tr>\n",
       "      <th>0</th>\n",
       "      <td>AAR CORP</td>\n",
       "      <td>41.254368</td>\n",
       "      <td>47.200</td>\n",
       "      <td>127.200</td>\n",
       "      <td>0.000</td>\n",
       "      <td>1539.700</td>\n",
       "      <td>27.5449</td>\n",
       "      <td>479.800</td>\n",
       "      <td>11.300</td>\n",
       "      <td>974.400</td>\n",
       "      <td>...</td>\n",
       "      <td>1651.400</td>\n",
       "      <td>0.000</td>\n",
       "      <td>974.400</td>\n",
       "      <td>274.100</td>\n",
       "      <td>18.200</td>\n",
       "      <td>0.042541</td>\n",
       "      <td>0.067221</td>\n",
       "      <td>0.021679</td>\n",
       "      <td>1.072547</td>\n",
       "      <td>0.173671</td>\n",
       "    </tr>\n",
       "    <tr>\n",
       "      <th>1</th>\n",
       "      <td>AMERICAN AIRLINES GROUP INC</td>\n",
       "      <td>-1.103066</td>\n",
       "      <td>418.000</td>\n",
       "      <td>1196.000</td>\n",
       "      <td>0.000</td>\n",
       "      <td>30775.000</td>\n",
       "      <td>-0.6857</td>\n",
       "      <td>5897.168</td>\n",
       "      <td>623.000</td>\n",
       "      <td>-19.750</td>\n",
       "      <td>...</td>\n",
       "      <td>11847.000</td>\n",
       "      <td>41.000</td>\n",
       "      <td>-14.100</td>\n",
       "      <td>0.000</td>\n",
       "      <td>-37.780</td>\n",
       "      <td>-0.183638</td>\n",
       "      <td>0.837353</td>\n",
       "      <td>-0.512488</td>\n",
       "      <td>0.279593</td>\n",
       "      <td>-0.285690</td>\n",
       "    </tr>\n",
       "    <tr>\n",
       "      <th>2</th>\n",
       "      <td>CECO ENVIRONMENTAL CORP</td>\n",
       "      <td>29.978601</td>\n",
       "      <td>19.787</td>\n",
       "      <td>55.899</td>\n",
       "      <td>5.895</td>\n",
       "      <td>419.314</td>\n",
       "      <td>5.7301</td>\n",
       "      <td>255.296</td>\n",
       "      <td>3.945</td>\n",
       "      <td>202.658</td>\n",
       "      <td>...</td>\n",
       "      <td>316.011</td>\n",
       "      <td>0.000</td>\n",
       "      <td>203.611</td>\n",
       "      <td>0.356</td>\n",
       "      <td>3.672</td>\n",
       "      <td>0.049111</td>\n",
       "      <td>0.101139</td>\n",
       "      <td>0.025983</td>\n",
       "      <td>0.753638</td>\n",
       "      <td>0.339988</td>\n",
       "    </tr>\n",
       "    <tr>\n",
       "      <th>3</th>\n",
       "      <td>ASA GOLD AND PRECIOUS METALS</td>\n",
       "      <td>2.152306</td>\n",
       "      <td>0.131</td>\n",
       "      <td>0.118</td>\n",
       "      <td>0.000</td>\n",
       "      <td>464.740</td>\n",
       "      <td>24.0506</td>\n",
       "      <td>1.372</td>\n",
       "      <td>NaN</td>\n",
       "      <td>463.936</td>\n",
       "      <td>...</td>\n",
       "      <td>1.333</td>\n",
       "      <td>NaN</td>\n",
       "      <td>463.936</td>\n",
       "      <td>0.000</td>\n",
       "      <td>0.000</td>\n",
       "      <td>-0.005683</td>\n",
       "      <td>-0.005693</td>\n",
       "      <td>0.334031</td>\n",
       "      <td>0.002868</td>\n",
       "      <td>-1.981245</td>\n",
       "    </tr>\n",
       "    <tr>\n",
       "      <th>4</th>\n",
       "      <td>PINNACLE WEST CAPITAL CORP</td>\n",
       "      <td>16.364105</td>\n",
       "      <td>378.063</td>\n",
       "      <td>318.585</td>\n",
       "      <td>0.000</td>\n",
       "      <td>20020.421</td>\n",
       "      <td>48.9926</td>\n",
       "      <td>0.000</td>\n",
       "      <td>623.000</td>\n",
       "      <td>5633.503</td>\n",
       "      <td>...</td>\n",
       "      <td>3586.982</td>\n",
       "      <td>819.518</td>\n",
       "      <td>5752.793</td>\n",
       "      <td>6.289</td>\n",
       "      <td>78.173</td>\n",
       "      <td>0.039367</td>\n",
       "      <td>0.137003</td>\n",
       "      <td>0.153488</td>\n",
       "      <td>0.179166</td>\n",
       "      <td>0.391006</td>\n",
       "    </tr>\n",
       "  </tbody>\n",
       "</table>\n",
       "<p>5 rows × 46 columns</p>\n",
       "</div>\n",
       "      <button class=\"colab-df-convert\" onclick=\"convertToInteractive('df-37dfcb24-6e1f-4324-a922-322c480e302d')\"\n",
       "              title=\"Convert this dataframe to an interactive table.\"\n",
       "              style=\"display:none;\">\n",
       "        \n",
       "  <svg xmlns=\"http://www.w3.org/2000/svg\" height=\"24px\"viewBox=\"0 0 24 24\"\n",
       "       width=\"24px\">\n",
       "    <path d=\"M0 0h24v24H0V0z\" fill=\"none\"/>\n",
       "    <path d=\"M18.56 5.44l.94 2.06.94-2.06 2.06-.94-2.06-.94-.94-2.06-.94 2.06-2.06.94zm-11 1L8.5 8.5l.94-2.06 2.06-.94-2.06-.94L8.5 2.5l-.94 2.06-2.06.94zm10 10l.94 2.06.94-2.06 2.06-.94-2.06-.94-.94-2.06-.94 2.06-2.06.94z\"/><path d=\"M17.41 7.96l-1.37-1.37c-.4-.4-.92-.59-1.43-.59-.52 0-1.04.2-1.43.59L10.3 9.45l-7.72 7.72c-.78.78-.78 2.05 0 2.83L4 21.41c.39.39.9.59 1.41.59.51 0 1.02-.2 1.41-.59l7.78-7.78 2.81-2.81c.8-.78.8-2.07 0-2.86zM5.41 20L4 18.59l7.72-7.72 1.47 1.35L5.41 20z\"/>\n",
       "  </svg>\n",
       "      </button>\n",
       "      \n",
       "  <style>\n",
       "    .colab-df-container {\n",
       "      display:flex;\n",
       "      flex-wrap:wrap;\n",
       "      gap: 12px;\n",
       "    }\n",
       "\n",
       "    .colab-df-convert {\n",
       "      background-color: #E8F0FE;\n",
       "      border: none;\n",
       "      border-radius: 50%;\n",
       "      cursor: pointer;\n",
       "      display: none;\n",
       "      fill: #1967D2;\n",
       "      height: 32px;\n",
       "      padding: 0 0 0 0;\n",
       "      width: 32px;\n",
       "    }\n",
       "\n",
       "    .colab-df-convert:hover {\n",
       "      background-color: #E2EBFA;\n",
       "      box-shadow: 0px 1px 2px rgba(60, 64, 67, 0.3), 0px 1px 3px 1px rgba(60, 64, 67, 0.15);\n",
       "      fill: #174EA6;\n",
       "    }\n",
       "\n",
       "    [theme=dark] .colab-df-convert {\n",
       "      background-color: #3B4455;\n",
       "      fill: #D2E3FC;\n",
       "    }\n",
       "\n",
       "    [theme=dark] .colab-df-convert:hover {\n",
       "      background-color: #434B5C;\n",
       "      box-shadow: 0px 1px 3px 1px rgba(0, 0, 0, 0.15);\n",
       "      filter: drop-shadow(0px 1px 2px rgba(0, 0, 0, 0.3));\n",
       "      fill: #FFFFFF;\n",
       "    }\n",
       "  </style>\n",
       "\n",
       "      <script>\n",
       "        const buttonEl =\n",
       "          document.querySelector('#df-37dfcb24-6e1f-4324-a922-322c480e302d button.colab-df-convert');\n",
       "        buttonEl.style.display =\n",
       "          google.colab.kernel.accessAllowed ? 'block' : 'none';\n",
       "\n",
       "        async function convertToInteractive(key) {\n",
       "          const element = document.querySelector('#df-37dfcb24-6e1f-4324-a922-322c480e302d');\n",
       "          const dataTable =\n",
       "            await google.colab.kernel.invokeFunction('convertToInteractive',\n",
       "                                                     [key], {});\n",
       "          if (!dataTable) return;\n",
       "\n",
       "          const docLinkHtml = 'Like what you see? Visit the ' +\n",
       "            '<a target=\"_blank\" href=https://colab.research.google.com/notebooks/data_table.ipynb>data table notebook</a>'\n",
       "            + ' to learn more about interactive tables.';\n",
       "          element.innerHTML = '';\n",
       "          dataTable['output_type'] = 'display_data';\n",
       "          await google.colab.output.renderOutput(dataTable, element);\n",
       "          const docLink = document.createElement('div');\n",
       "          docLink.innerHTML = docLinkHtml;\n",
       "          element.appendChild(docLink);\n",
       "        }\n",
       "      </script>\n",
       "    </div>\n",
       "  </div>\n",
       "  "
      ],
      "text/plain": [
       "                           conm       pe_w    aco_w      ap_w  aqc_w  \\\n",
       "0                      AAR CORP  41.254368   47.200   127.200  0.000   \n",
       "1   AMERICAN AIRLINES GROUP INC  -1.103066  418.000  1196.000  0.000   \n",
       "2       CECO ENVIRONMENTAL CORP  29.978601   19.787    55.899  5.895   \n",
       "3  ASA GOLD AND PRECIOUS METALS   2.152306    0.131     0.118  0.000   \n",
       "4    PINNACLE WEST CAPITAL CORP  16.364105  378.063   318.585  0.000   \n",
       "\n",
       "        at_w  bkvlps_w    caps_w   capx_w     ceq_w  ...     sale_w    siv_w  \\\n",
       "0   1539.700   27.5449   479.800   11.300   974.400  ...   1651.400    0.000   \n",
       "1  30775.000   -0.6857  5897.168  623.000   -19.750  ...  11847.000   41.000   \n",
       "2    419.314    5.7301   255.296    3.945   202.658  ...    316.011    0.000   \n",
       "3    464.740   24.0506     1.372      NaN   463.936  ...      1.333      NaN   \n",
       "4  20020.421   48.9926     0.000  623.000  5633.503  ...   3586.982  819.518   \n",
       "\n",
       "      teq_w   tstk_w   txt_w     roa_w     roe_w  profit_margin_w  \\\n",
       "0   974.400  274.100  18.200  0.042541  0.067221         0.021679   \n",
       "1   -14.100    0.000 -37.780 -0.183638  0.837353        -0.512488   \n",
       "2   203.611    0.356   3.672  0.049111  0.101139         0.025983   \n",
       "3   463.936    0.000   0.000 -0.005683 -0.005693         0.334031   \n",
       "4  5752.793    6.289  78.173  0.039367  0.137003         0.153488   \n",
       "\n",
       "   asset_turnover_w  operating_margin_w  \n",
       "0          1.072547            0.173671  \n",
       "1          0.279593           -0.285690  \n",
       "2          0.753638            0.339988  \n",
       "3          0.002868           -1.981245  \n",
       "4          0.179166            0.391006  \n",
       "\n",
       "[5 rows x 46 columns]"
      ]
     },
     "execution_count": 5,
     "metadata": {},
     "output_type": "execute_result"
    }
   ],
   "source": [
    "df.head()"
   ]
  },
  {
   "cell_type": "markdown",
   "id": "GWilz7NUSxAv",
   "metadata": {
    "id": "GWilz7NUSxAv"
   },
   "source": [
    "## Mathematical Descrption of Dataset"
   ]
  },
  {
   "cell_type": "code",
   "execution_count": 6,
   "id": "dx9YHD-lStjF",
   "metadata": {
    "colab": {
     "base_uri": "https://localhost:8080/",
     "height": 394
    },
    "id": "dx9YHD-lStjF",
    "outputId": "a70b4bf4-77e6-4e48-a76d-d737d3549f5c"
   },
   "outputs": [
    {
     "data": {
      "text/html": [
       "\n",
       "  <div id=\"df-d0e4be90-07f0-4dc5-ad1a-3e71c77db239\">\n",
       "    <div class=\"colab-df-container\">\n",
       "      <div>\n",
       "<style scoped>\n",
       "    .dataframe tbody tr th:only-of-type {\n",
       "        vertical-align: middle;\n",
       "    }\n",
       "\n",
       "    .dataframe tbody tr th {\n",
       "        vertical-align: top;\n",
       "    }\n",
       "\n",
       "    .dataframe thead th {\n",
       "        text-align: right;\n",
       "    }\n",
       "</style>\n",
       "<table border=\"1\" class=\"dataframe\">\n",
       "  <thead>\n",
       "    <tr style=\"text-align: right;\">\n",
       "      <th></th>\n",
       "      <th>pe_w</th>\n",
       "      <th>aco_w</th>\n",
       "      <th>ap_w</th>\n",
       "      <th>aqc_w</th>\n",
       "      <th>at_w</th>\n",
       "      <th>bkvlps_w</th>\n",
       "      <th>caps_w</th>\n",
       "      <th>capx_w</th>\n",
       "      <th>ceq_w</th>\n",
       "      <th>ch_w</th>\n",
       "      <th>...</th>\n",
       "      <th>sale_w</th>\n",
       "      <th>siv_w</th>\n",
       "      <th>teq_w</th>\n",
       "      <th>tstk_w</th>\n",
       "      <th>txt_w</th>\n",
       "      <th>roa_w</th>\n",
       "      <th>roe_w</th>\n",
       "      <th>profit_margin_w</th>\n",
       "      <th>asset_turnover_w</th>\n",
       "      <th>operating_margin_w</th>\n",
       "    </tr>\n",
       "  </thead>\n",
       "  <tbody>\n",
       "    <tr>\n",
       "      <th>count</th>\n",
       "      <td>4956.000000</td>\n",
       "      <td>4538.000000</td>\n",
       "      <td>4932.000000</td>\n",
       "      <td>4956.000000</td>\n",
       "      <td>4956.000000</td>\n",
       "      <td>4929.000000</td>\n",
       "      <td>4824.000000</td>\n",
       "      <td>4923.000000</td>\n",
       "      <td>4946.000000</td>\n",
       "      <td>4887.000000</td>\n",
       "      <td>...</td>\n",
       "      <td>4956.000000</td>\n",
       "      <td>4770.000000</td>\n",
       "      <td>4956.000000</td>\n",
       "      <td>4945.000000</td>\n",
       "      <td>4954.000000</td>\n",
       "      <td>4946.000000</td>\n",
       "      <td>4955.000000</td>\n",
       "      <td>4481.000000</td>\n",
       "      <td>4946.000000</td>\n",
       "      <td>4481.000000</td>\n",
       "    </tr>\n",
       "    <tr>\n",
       "      <th>mean</th>\n",
       "      <td>1.204519</td>\n",
       "      <td>51.973920</td>\n",
       "      <td>382.626984</td>\n",
       "      <td>17.971731</td>\n",
       "      <td>4053.070918</td>\n",
       "      <td>11.937821</td>\n",
       "      <td>891.671623</td>\n",
       "      <td>73.231801</td>\n",
       "      <td>1078.143456</td>\n",
       "      <td>282.595903</td>\n",
       "      <td>...</td>\n",
       "      <td>1594.907305</td>\n",
       "      <td>87.836877</td>\n",
       "      <td>1158.629251</td>\n",
       "      <td>119.791047</td>\n",
       "      <td>19.664689</td>\n",
       "      <td>-0.096621</td>\n",
       "      <td>-0.019546</td>\n",
       "      <td>-0.835486</td>\n",
       "      <td>0.504654</td>\n",
       "      <td>0.205263</td>\n",
       "    </tr>\n",
       "    <tr>\n",
       "      <th>std</th>\n",
       "      <td>101.727788</td>\n",
       "      <td>105.420945</td>\n",
       "      <td>878.071812</td>\n",
       "      <td>52.703772</td>\n",
       "      <td>7718.564421</td>\n",
       "      <td>13.815800</td>\n",
       "      <td>1499.401239</td>\n",
       "      <td>158.240095</td>\n",
       "      <td>1981.117670</td>\n",
       "      <td>494.138085</td>\n",
       "      <td>...</td>\n",
       "      <td>3062.487634</td>\n",
       "      <td>238.814828</td>\n",
       "      <td>2143.875376</td>\n",
       "      <td>343.578764</td>\n",
       "      <td>53.938529</td>\n",
       "      <td>0.283625</td>\n",
       "      <td>0.459106</td>\n",
       "      <td>2.433348</td>\n",
       "      <td>0.500056</td>\n",
       "      <td>0.899749</td>\n",
       "    </tr>\n",
       "    <tr>\n",
       "      <th>min</th>\n",
       "      <td>-535.730652</td>\n",
       "      <td>0.000000</td>\n",
       "      <td>0.118000</td>\n",
       "      <td>0.000000</td>\n",
       "      <td>4.124000</td>\n",
       "      <td>-0.685700</td>\n",
       "      <td>0.000000</td>\n",
       "      <td>0.000000</td>\n",
       "      <td>-19.750000</td>\n",
       "      <td>0.222000</td>\n",
       "      <td>...</td>\n",
       "      <td>0.000000</td>\n",
       "      <td>0.000000</td>\n",
       "      <td>-14.100000</td>\n",
       "      <td>0.000000</td>\n",
       "      <td>-37.780000</td>\n",
       "      <td>-0.984706</td>\n",
       "      <td>-1.246837</td>\n",
       "      <td>-9.885000</td>\n",
       "      <td>0.000000</td>\n",
       "      <td>-3.192247</td>\n",
       "    </tr>\n",
       "    <tr>\n",
       "      <th>25%</th>\n",
       "      <td>-9.971765</td>\n",
       "      <td>0.691250</td>\n",
       "      <td>2.333000</td>\n",
       "      <td>0.000000</td>\n",
       "      <td>103.405500</td>\n",
       "      <td>1.255900</td>\n",
       "      <td>51.013500</td>\n",
       "      <td>0.202000</td>\n",
       "      <td>31.319250</td>\n",
       "      <td>10.605000</td>\n",
       "      <td>...</td>\n",
       "      <td>18.251250</td>\n",
       "      <td>0.000000</td>\n",
       "      <td>33.773000</td>\n",
       "      <td>0.000000</td>\n",
       "      <td>0.000000</td>\n",
       "      <td>-0.127678</td>\n",
       "      <td>-0.160335</td>\n",
       "      <td>-0.279503</td>\n",
       "      <td>0.067482</td>\n",
       "      <td>0.201093</td>\n",
       "    </tr>\n",
       "    <tr>\n",
       "      <th>50%</th>\n",
       "      <td>-0.495677</td>\n",
       "      <td>6.409500</td>\n",
       "      <td>20.009000</td>\n",
       "      <td>0.000000</td>\n",
       "      <td>747.327000</td>\n",
       "      <td>6.771700</td>\n",
       "      <td>261.554000</td>\n",
       "      <td>4.932000</td>\n",
       "      <td>225.456000</td>\n",
       "      <td>61.781000</td>\n",
       "      <td>...</td>\n",
       "      <td>224.574000</td>\n",
       "      <td>0.000000</td>\n",
       "      <td>238.618500</td>\n",
       "      <td>0.000000</td>\n",
       "      <td>0.101500</td>\n",
       "      <td>0.014193</td>\n",
       "      <td>0.072488</td>\n",
       "      <td>0.010993</td>\n",
       "      <td>0.358562</td>\n",
       "      <td>0.389049</td>\n",
       "    </tr>\n",
       "    <tr>\n",
       "      <th>75%</th>\n",
       "      <td>19.491211</td>\n",
       "      <td>40.163500</td>\n",
       "      <td>183.342250</td>\n",
       "      <td>0.000000</td>\n",
       "      <td>3395.961000</td>\n",
       "      <td>17.770500</td>\n",
       "      <td>897.796750</td>\n",
       "      <td>48.305500</td>\n",
       "      <td>981.696750</td>\n",
       "      <td>271.391000</td>\n",
       "      <td>...</td>\n",
       "      <td>1372.151000</td>\n",
       "      <td>9.670750</td>\n",
       "      <td>1051.128500</td>\n",
       "      <td>6.000000</td>\n",
       "      <td>11.397750</td>\n",
       "      <td>0.059920</td>\n",
       "      <td>0.194190</td>\n",
       "      <td>0.116123</td>\n",
       "      <td>0.780880</td>\n",
       "      <td>0.656997</td>\n",
       "    </tr>\n",
       "    <tr>\n",
       "      <th>max</th>\n",
       "      <td>493.864349</td>\n",
       "      <td>418.000000</td>\n",
       "      <td>3532.000000</td>\n",
       "      <td>217.029000</td>\n",
       "      <td>30775.000000</td>\n",
       "      <td>48.992600</td>\n",
       "      <td>5897.168000</td>\n",
       "      <td>623.000000</td>\n",
       "      <td>7840.000000</td>\n",
       "      <td>1873.300000</td>\n",
       "      <td>...</td>\n",
       "      <td>11847.000000</td>\n",
       "      <td>969.399000</td>\n",
       "      <td>8475.900000</td>\n",
       "      <td>1400.000000</td>\n",
       "      <td>203.833000</td>\n",
       "      <td>0.165736</td>\n",
       "      <td>0.837353</td>\n",
       "      <td>0.334031</td>\n",
       "      <td>1.740436</td>\n",
       "      <td>0.883584</td>\n",
       "    </tr>\n",
       "  </tbody>\n",
       "</table>\n",
       "<p>8 rows × 45 columns</p>\n",
       "</div>\n",
       "      <button class=\"colab-df-convert\" onclick=\"convertToInteractive('df-d0e4be90-07f0-4dc5-ad1a-3e71c77db239')\"\n",
       "              title=\"Convert this dataframe to an interactive table.\"\n",
       "              style=\"display:none;\">\n",
       "        \n",
       "  <svg xmlns=\"http://www.w3.org/2000/svg\" height=\"24px\"viewBox=\"0 0 24 24\"\n",
       "       width=\"24px\">\n",
       "    <path d=\"M0 0h24v24H0V0z\" fill=\"none\"/>\n",
       "    <path d=\"M18.56 5.44l.94 2.06.94-2.06 2.06-.94-2.06-.94-.94-2.06-.94 2.06-2.06.94zm-11 1L8.5 8.5l.94-2.06 2.06-.94-2.06-.94L8.5 2.5l-.94 2.06-2.06.94zm10 10l.94 2.06.94-2.06 2.06-.94-2.06-.94-.94-2.06-.94 2.06-2.06.94z\"/><path d=\"M17.41 7.96l-1.37-1.37c-.4-.4-.92-.59-1.43-.59-.52 0-1.04.2-1.43.59L10.3 9.45l-7.72 7.72c-.78.78-.78 2.05 0 2.83L4 21.41c.39.39.9.59 1.41.59.51 0 1.02-.2 1.41-.59l7.78-7.78 2.81-2.81c.8-.78.8-2.07 0-2.86zM5.41 20L4 18.59l7.72-7.72 1.47 1.35L5.41 20z\"/>\n",
       "  </svg>\n",
       "      </button>\n",
       "      \n",
       "  <style>\n",
       "    .colab-df-container {\n",
       "      display:flex;\n",
       "      flex-wrap:wrap;\n",
       "      gap: 12px;\n",
       "    }\n",
       "\n",
       "    .colab-df-convert {\n",
       "      background-color: #E8F0FE;\n",
       "      border: none;\n",
       "      border-radius: 50%;\n",
       "      cursor: pointer;\n",
       "      display: none;\n",
       "      fill: #1967D2;\n",
       "      height: 32px;\n",
       "      padding: 0 0 0 0;\n",
       "      width: 32px;\n",
       "    }\n",
       "\n",
       "    .colab-df-convert:hover {\n",
       "      background-color: #E2EBFA;\n",
       "      box-shadow: 0px 1px 2px rgba(60, 64, 67, 0.3), 0px 1px 3px 1px rgba(60, 64, 67, 0.15);\n",
       "      fill: #174EA6;\n",
       "    }\n",
       "\n",
       "    [theme=dark] .colab-df-convert {\n",
       "      background-color: #3B4455;\n",
       "      fill: #D2E3FC;\n",
       "    }\n",
       "\n",
       "    [theme=dark] .colab-df-convert:hover {\n",
       "      background-color: #434B5C;\n",
       "      box-shadow: 0px 1px 3px 1px rgba(0, 0, 0, 0.15);\n",
       "      filter: drop-shadow(0px 1px 2px rgba(0, 0, 0, 0.3));\n",
       "      fill: #FFFFFF;\n",
       "    }\n",
       "  </style>\n",
       "\n",
       "      <script>\n",
       "        const buttonEl =\n",
       "          document.querySelector('#df-d0e4be90-07f0-4dc5-ad1a-3e71c77db239 button.colab-df-convert');\n",
       "        buttonEl.style.display =\n",
       "          google.colab.kernel.accessAllowed ? 'block' : 'none';\n",
       "\n",
       "        async function convertToInteractive(key) {\n",
       "          const element = document.querySelector('#df-d0e4be90-07f0-4dc5-ad1a-3e71c77db239');\n",
       "          const dataTable =\n",
       "            await google.colab.kernel.invokeFunction('convertToInteractive',\n",
       "                                                     [key], {});\n",
       "          if (!dataTable) return;\n",
       "\n",
       "          const docLinkHtml = 'Like what you see? Visit the ' +\n",
       "            '<a target=\"_blank\" href=https://colab.research.google.com/notebooks/data_table.ipynb>data table notebook</a>'\n",
       "            + ' to learn more about interactive tables.';\n",
       "          element.innerHTML = '';\n",
       "          dataTable['output_type'] = 'display_data';\n",
       "          await google.colab.output.renderOutput(dataTable, element);\n",
       "          const docLink = document.createElement('div');\n",
       "          docLink.innerHTML = docLinkHtml;\n",
       "          element.appendChild(docLink);\n",
       "        }\n",
       "      </script>\n",
       "    </div>\n",
       "  </div>\n",
       "  "
      ],
      "text/plain": [
       "              pe_w        aco_w         ap_w        aqc_w          at_w  \\\n",
       "count  4956.000000  4538.000000  4932.000000  4956.000000   4956.000000   \n",
       "mean      1.204519    51.973920   382.626984    17.971731   4053.070918   \n",
       "std     101.727788   105.420945   878.071812    52.703772   7718.564421   \n",
       "min    -535.730652     0.000000     0.118000     0.000000      4.124000   \n",
       "25%      -9.971765     0.691250     2.333000     0.000000    103.405500   \n",
       "50%      -0.495677     6.409500    20.009000     0.000000    747.327000   \n",
       "75%      19.491211    40.163500   183.342250     0.000000   3395.961000   \n",
       "max     493.864349   418.000000  3532.000000   217.029000  30775.000000   \n",
       "\n",
       "          bkvlps_w       caps_w       capx_w        ceq_w         ch_w  ...  \\\n",
       "count  4929.000000  4824.000000  4923.000000  4946.000000  4887.000000  ...   \n",
       "mean     11.937821   891.671623    73.231801  1078.143456   282.595903  ...   \n",
       "std      13.815800  1499.401239   158.240095  1981.117670   494.138085  ...   \n",
       "min      -0.685700     0.000000     0.000000   -19.750000     0.222000  ...   \n",
       "25%       1.255900    51.013500     0.202000    31.319250    10.605000  ...   \n",
       "50%       6.771700   261.554000     4.932000   225.456000    61.781000  ...   \n",
       "75%      17.770500   897.796750    48.305500   981.696750   271.391000  ...   \n",
       "max      48.992600  5897.168000   623.000000  7840.000000  1873.300000  ...   \n",
       "\n",
       "             sale_w        siv_w        teq_w       tstk_w        txt_w  \\\n",
       "count   4956.000000  4770.000000  4956.000000  4945.000000  4954.000000   \n",
       "mean    1594.907305    87.836877  1158.629251   119.791047    19.664689   \n",
       "std     3062.487634   238.814828  2143.875376   343.578764    53.938529   \n",
       "min        0.000000     0.000000   -14.100000     0.000000   -37.780000   \n",
       "25%       18.251250     0.000000    33.773000     0.000000     0.000000   \n",
       "50%      224.574000     0.000000   238.618500     0.000000     0.101500   \n",
       "75%     1372.151000     9.670750  1051.128500     6.000000    11.397750   \n",
       "max    11847.000000   969.399000  8475.900000  1400.000000   203.833000   \n",
       "\n",
       "             roa_w        roe_w  profit_margin_w  asset_turnover_w  \\\n",
       "count  4946.000000  4955.000000      4481.000000       4946.000000   \n",
       "mean     -0.096621    -0.019546        -0.835486          0.504654   \n",
       "std       0.283625     0.459106         2.433348          0.500056   \n",
       "min      -0.984706    -1.246837        -9.885000          0.000000   \n",
       "25%      -0.127678    -0.160335        -0.279503          0.067482   \n",
       "50%       0.014193     0.072488         0.010993          0.358562   \n",
       "75%       0.059920     0.194190         0.116123          0.780880   \n",
       "max       0.165736     0.837353         0.334031          1.740436   \n",
       "\n",
       "       operating_margin_w  \n",
       "count         4481.000000  \n",
       "mean             0.205263  \n",
       "std              0.899749  \n",
       "min             -3.192247  \n",
       "25%              0.201093  \n",
       "50%              0.389049  \n",
       "75%              0.656997  \n",
       "max              0.883584  \n",
       "\n",
       "[8 rows x 45 columns]"
      ]
     },
     "execution_count": 6,
     "metadata": {},
     "output_type": "execute_result"
    }
   ],
   "source": [
    "df.describe()"
   ]
  },
  {
   "cell_type": "markdown",
   "id": "SqnIaUdlS3QU",
   "metadata": {
    "id": "SqnIaUdlS3QU"
   },
   "source": [
    "## Deep Dataset Info"
   ]
  },
  {
   "cell_type": "code",
   "execution_count": 7,
   "id": "OJrkcxarS-01",
   "metadata": {
    "colab": {
     "base_uri": "https://localhost:8080/",
     "height": 0
    },
    "id": "OJrkcxarS-01",
    "outputId": "e499a92f-98fa-4ef0-9feb-8d6665693f23"
   },
   "outputs": [
    {
     "name": "stdout",
     "output_type": "stream",
     "text": [
      "<class 'pandas.core.frame.DataFrame'>\n",
      "RangeIndex: 4956 entries, 0 to 4955\n",
      "Data columns (total 46 columns):\n",
      " #   Column              Non-Null Count  Dtype  \n",
      "---  ------              --------------  -----  \n",
      " 0   conm                4956 non-null   object \n",
      " 1   pe_w                4956 non-null   float64\n",
      " 2   aco_w               4538 non-null   float64\n",
      " 3   ap_w                4932 non-null   float64\n",
      " 4   aqc_w               4956 non-null   float64\n",
      " 5   at_w                4956 non-null   float64\n",
      " 6   bkvlps_w            4929 non-null   float64\n",
      " 7   caps_w              4824 non-null   float64\n",
      " 8   capx_w              4923 non-null   float64\n",
      " 9   ceq_w               4946 non-null   float64\n",
      " 10  ch_w                4887 non-null   float64\n",
      " 11  chech_w             4934 non-null   float64\n",
      " 12  ci_w                4942 non-null   float64\n",
      " 13  cidergl_w           4925 non-null   float64\n",
      " 14  cogs_w              4956 non-null   float64\n",
      " 15  dlc_w               4954 non-null   float64\n",
      " 16  dp_w                4772 non-null   float64\n",
      " 17  dvt_w               4933 non-null   float64\n",
      " 18  ebitda_w            4804 non-null   float64\n",
      " 19  epspi_w             4953 non-null   float64\n",
      " 20  fiao_w              4933 non-null   float64\n",
      " 21  fopo_w              4933 non-null   float64\n",
      " 22  gdwl_w              4921 non-null   float64\n",
      " 23  ib_w                4956 non-null   float64\n",
      " 24  icapt_w             4956 non-null   float64\n",
      " 25  intano_w            4857 non-null   float64\n",
      " 26  invt_w              4898 non-null   float64\n",
      " 27  ivncf_w             4933 non-null   float64\n",
      " 28  ivst_w              4880 non-null   float64\n",
      " 29  lco_w               4538 non-null   float64\n",
      " 30  lt_w                4943 non-null   float64\n",
      " 31  np_w                4951 non-null   float64\n",
      " 32  oancf_w             4934 non-null   float64\n",
      " 33  ppent_w             4832 non-null   float64\n",
      " 34  re_w                4848 non-null   float64\n",
      " 35  rect_w              4909 non-null   float64\n",
      " 36  sale_w              4956 non-null   float64\n",
      " 37  siv_w               4770 non-null   float64\n",
      " 38  teq_w               4956 non-null   float64\n",
      " 39  tstk_w              4945 non-null   float64\n",
      " 40  txt_w               4954 non-null   float64\n",
      " 41  roa_w               4946 non-null   float64\n",
      " 42  roe_w               4955 non-null   float64\n",
      " 43  profit_margin_w     4481 non-null   float64\n",
      " 44  asset_turnover_w    4946 non-null   float64\n",
      " 45  operating_margin_w  4481 non-null   float64\n",
      "dtypes: float64(45), object(1)\n",
      "memory usage: 1.7+ MB\n"
     ]
    }
   ],
   "source": [
    "df.info()"
   ]
  },
  {
   "cell_type": "markdown",
   "id": "ERmn_cebTJRd",
   "metadata": {
    "id": "ERmn_cebTJRd"
   },
   "source": [
    "## check missing values in variables"
   ]
  },
  {
   "cell_type": "code",
   "execution_count": 8,
   "id": "H0XkRNig_bL-",
   "metadata": {
    "colab": {
     "base_uri": "https://localhost:8080/",
     "height": 0
    },
    "id": "H0XkRNig_bL-",
    "outputId": "e25d9a1e-efd5-4716-e3eb-05dc0f6c7af9"
   },
   "outputs": [
    {
     "data": {
      "text/plain": [
       "conm                    0\n",
       "pe_w                    0\n",
       "aco_w                 418\n",
       "ap_w                   24\n",
       "aqc_w                   0\n",
       "at_w                    0\n",
       "bkvlps_w               27\n",
       "caps_w                132\n",
       "capx_w                 33\n",
       "ceq_w                  10\n",
       "ch_w                   69\n",
       "chech_w                22\n",
       "ci_w                   14\n",
       "cidergl_w              31\n",
       "cogs_w                  0\n",
       "dlc_w                   2\n",
       "dp_w                  184\n",
       "dvt_w                  23\n",
       "ebitda_w              152\n",
       "epspi_w                 3\n",
       "fiao_w                 23\n",
       "fopo_w                 23\n",
       "gdwl_w                 35\n",
       "ib_w                    0\n",
       "icapt_w                 0\n",
       "intano_w               99\n",
       "invt_w                 58\n",
       "ivncf_w                23\n",
       "ivst_w                 76\n",
       "lco_w                 418\n",
       "lt_w                   13\n",
       "np_w                    5\n",
       "oancf_w                22\n",
       "ppent_w               124\n",
       "re_w                  108\n",
       "rect_w                 47\n",
       "sale_w                  0\n",
       "siv_w                 186\n",
       "teq_w                   0\n",
       "tstk_w                 11\n",
       "txt_w                   2\n",
       "roa_w                  10\n",
       "roe_w                   1\n",
       "profit_margin_w       475\n",
       "asset_turnover_w       10\n",
       "operating_margin_w    475\n",
       "dtype: int64"
      ]
     },
     "execution_count": 8,
     "metadata": {},
     "output_type": "execute_result"
    }
   ],
   "source": [
    "df.isnull().sum()"
   ]
  },
  {
   "cell_type": "markdown",
   "id": "x8bJSyUVTNfN",
   "metadata": {
    "id": "x8bJSyUVTNfN"
   },
   "source": [
    "## Applying interpolation for filling missing values"
   ]
  },
  {
   "cell_type": "code",
   "execution_count": 9,
   "id": "QZ0TWJ3Y_rC6",
   "metadata": {
    "id": "QZ0TWJ3Y_rC6"
   },
   "outputs": [],
   "source": [
    "df['aco_w']= df['aco_w'].interpolate(method='nearest')\n",
    "df['ap_w']= df['ap_w'].interpolate(method='nearest')\n",
    "df['bkvlps_w']= df['bkvlps_w'].interpolate(method='nearest')\n",
    "df['caps_w']= df['caps_w'].interpolate(method='nearest')\n",
    "df['capx_w']= df['capx_w'].interpolate(method='nearest')\n",
    "df['ceq_w']= df['ceq_w'].interpolate(method='nearest')\n",
    "df['ch_w']= df['ch_w'].interpolate(method='nearest')\n",
    "df['chech_w']= df['chech_w'].interpolate(method='nearest')\n",
    "df['ci_w']= df['ci_w'].interpolate(method='nearest')\n",
    "df['cidergl_w']= df['cidergl_w'].interpolate(method='nearest')\n",
    "df['dlc_w']= df['dlc_w'].interpolate(method='nearest')\n",
    "df['dp_w']= df['dp_w'].interpolate(method='nearest')\n",
    "df['dvt_w']= df['dvt_w'].interpolate(method='nearest')\n",
    "df['ebitda_w']= df['ebitda_w'].interpolate(method='nearest')\n",
    "df['epspi_w']= df['epspi_w'].interpolate(method='nearest')\n",
    "df['fiao_w']= df['fiao_w'].interpolate(method='nearest')                       \n",
    "df['fopo_w']= df['fopo_w'].interpolate(method='nearest')\n",
    "df['gdwl_w']= df['gdwl_w'].interpolate(method='nearest')\n",
    "df['intano_w']= df['intano_w'].interpolate(method='nearest')\n",
    "df['invt_w']= df['invt_w'].interpolate(method='nearest')\n",
    "df['ivncf_w']= df['ivncf_w'].interpolate(method='nearest')\n",
    "df['ivst_w']= df['ivst_w'].interpolate(method='nearest')\n",
    "df['lco_w']= df['lco_w'].interpolate(method='nearest')\n",
    "df['lt_w']= df['lt_w'].interpolate(method='nearest')\n",
    "df['np_w']= df['np_w'].interpolate(method='nearest')\n",
    "df['oancf_w']= df['oancf_w'].interpolate(method='nearest')\n",
    "df['ppent_w']= df['ppent_w'].interpolate(method='nearest')\n",
    "df['re_w']= df['re_w'].interpolate(method='nearest')\n",
    "df['rect_w']= df['rect_w'].interpolate(method='nearest')\n",
    "df['siv_w']= df['siv_w'].interpolate(method='nearest')\n",
    "df['tstk_w']= df['tstk_w'].interpolate(method='nearest')\n",
    "df['txt_w']= df['txt_w'].interpolate(method='nearest')\n",
    "df['roa_w']= df['roa_w'].interpolate(method='nearest')\n",
    "df['roe_w']= df['roe_w'].interpolate(method='nearest')\n",
    "df['profit_margin_w']= df['profit_margin_w'].interpolate(method='nearest')\n",
    "df['asset_turnover_w']= df['asset_turnover_w'].interpolate(method='nearest')\n",
    "df['operating_margin_w']= df['operating_margin_w'].interpolate(method='nearest')"
   ]
  },
  {
   "cell_type": "markdown",
   "id": "WD8132E8TSbz",
   "metadata": {
    "id": "WD8132E8TSbz"
   },
   "source": [
    "## checking again missing values in variables"
   ]
  },
  {
   "cell_type": "code",
   "execution_count": 10,
   "id": "QSX8YQkWEJWD",
   "metadata": {
    "colab": {
     "base_uri": "https://localhost:8080/",
     "height": 0
    },
    "id": "QSX8YQkWEJWD",
    "outputId": "69d7f94f-3634-47b3-d44d-31747d9608b1"
   },
   "outputs": [
    {
     "data": {
      "text/plain": [
       "conm                  0\n",
       "pe_w                  0\n",
       "aco_w                 0\n",
       "ap_w                  0\n",
       "aqc_w                 0\n",
       "at_w                  0\n",
       "bkvlps_w              0\n",
       "caps_w                0\n",
       "capx_w                0\n",
       "ceq_w                 0\n",
       "ch_w                  0\n",
       "chech_w               0\n",
       "ci_w                  0\n",
       "cidergl_w             0\n",
       "cogs_w                0\n",
       "dlc_w                 0\n",
       "dp_w                  0\n",
       "dvt_w                 0\n",
       "ebitda_w              0\n",
       "epspi_w               0\n",
       "fiao_w                0\n",
       "fopo_w                0\n",
       "gdwl_w                0\n",
       "ib_w                  0\n",
       "icapt_w               0\n",
       "intano_w              0\n",
       "invt_w                0\n",
       "ivncf_w               0\n",
       "ivst_w                0\n",
       "lco_w                 0\n",
       "lt_w                  0\n",
       "np_w                  0\n",
       "oancf_w               0\n",
       "ppent_w               0\n",
       "re_w                  0\n",
       "rect_w                0\n",
       "sale_w                0\n",
       "siv_w                 0\n",
       "teq_w                 0\n",
       "tstk_w                0\n",
       "txt_w                 0\n",
       "roa_w                 0\n",
       "roe_w                 0\n",
       "profit_margin_w       0\n",
       "asset_turnover_w      0\n",
       "operating_margin_w    0\n",
       "dtype: int64"
      ]
     },
     "execution_count": 10,
     "metadata": {},
     "output_type": "execute_result"
    }
   ],
   "source": [
    "df.isnull().sum()"
   ]
  },
  {
   "cell_type": "markdown",
   "id": "XVHgFZKiQrN1",
   "metadata": {
    "id": "XVHgFZKiQrN1"
   },
   "source": [
    "## Fiting Return on Assets (roa_w) as the response and the other variables as predictors."
   ]
  },
  {
   "cell_type": "code",
   "execution_count": 11,
   "id": "jvmk_AjqTzik",
   "metadata": {
    "id": "jvmk_AjqTzik"
   },
   "outputs": [],
   "source": [
    "X = df.drop(['conm','roa_w'], axis=1)\n",
    "y = df['roa_w']"
   ]
  },
  {
   "cell_type": "markdown",
   "id": "SEPARwLhTZ08",
   "metadata": {
    "id": "SEPARwLhTZ08"
   },
   "source": [
    "## Spliting Dataset into train and test according to given sceniro training set containing half of the observations, and a test set containing the remaining observations"
   ]
  },
  {
   "cell_type": "code",
   "execution_count": 12,
   "id": "tIK5V9V1FWmx",
   "metadata": {
    "id": "tIK5V9V1FWmx"
   },
   "outputs": [],
   "source": [
    "X_train, X_test, y_train, y_test = train_test_split(X, y, test_size=0.50)"
   ]
  },
  {
   "cell_type": "markdown",
   "id": "s7sqhGt7ToCg",
   "metadata": {
    "id": "s7sqhGt7ToCg"
   },
   "source": [
    "## check the shape of X_train and X_test"
   ]
  },
  {
   "cell_type": "code",
   "execution_count": 13,
   "id": "krwDd6XaFhHt",
   "metadata": {
    "colab": {
     "base_uri": "https://localhost:8080/",
     "height": 0
    },
    "id": "krwDd6XaFhHt",
    "outputId": "3d0037c6-3022-4614-9420-287f986396cf"
   },
   "outputs": [
    {
     "data": {
      "text/plain": [
       "((2478, 44), (2478, 44))"
      ]
     },
     "execution_count": 13,
     "metadata": {},
     "output_type": "execute_result"
    }
   ],
   "source": [
    "X_train.shape, X_test.shape"
   ]
  },
  {
   "cell_type": "markdown",
   "id": "tMfUAiunT9Ft",
   "metadata": {
    "id": "tMfUAiunT9Ft"
   },
   "source": [
    "## Fiting DecisionTreeRegressor"
   ]
  },
  {
   "cell_type": "code",
   "execution_count": 14,
   "id": "prlolDwcFqkd",
   "metadata": {
    "colab": {
     "base_uri": "https://localhost:8080/",
     "height": 0
    },
    "id": "prlolDwcFqkd",
    "outputId": "8a276285-c4fd-42c4-a2d9-44d2dcc908f5"
   },
   "outputs": [
    {
     "name": "stdout",
     "output_type": "stream",
     "text": [
      "**************************************************\n",
      "RMSE of DecisionTreeRegressor() model is: 0.10780551954157981\n",
      "MAE value of DecisionTreeRegressor() is: 0.043671773525242055\n",
      "**************************************************\n"
     ]
    }
   ],
   "source": [
    "reg = DecisionTreeRegressor()\n",
    "reg.fit(X_train,y_train)\n",
    "pred = reg.predict(X_test)\n",
    "err = mean_squared_error(y_test, pred) ** .5\n",
    "mae_reg=mean_absolute_error(y_test, pred)\n",
    "print('*'*50)\n",
    "print(f'RMSE of {reg} model is: {err}')\n",
    "print(f'MAE value of {reg} is: {np.mean(mean_absolute_error(y_test, pred))}')\n",
    "print('*'*50)"
   ]
  },
  {
   "cell_type": "markdown",
   "id": "--w8fw-aRgmL",
   "metadata": {
    "id": "--w8fw-aRgmL"
   },
   "source": [
    "## Implementing Bagged Tree"
   ]
  },
  {
   "cell_type": "code",
   "execution_count": 15,
   "id": "sEbClPzZPUEv",
   "metadata": {
    "colab": {
     "base_uri": "https://localhost:8080/",
     "height": 0
    },
    "id": "sEbClPzZPUEv",
    "outputId": "6452896e-82c5-4bc7-c5eb-ae1032e4d034"
   },
   "outputs": [
    {
     "name": "stdout",
     "output_type": "stream",
     "text": [
      "**************************************************\n",
      "RMSE of BaggingRegressor() model is: 0.08226655712710888\n",
      "MAE value of BaggingRegressor() is: 0.037915900829841954\n",
      "**************************************************\n"
     ]
    }
   ],
   "source": [
    "bagg = BaggingRegressor()\n",
    "bagg.fit(X_train,y_train)\n",
    "pred = bagg.predict(X_test)\n",
    "err = mean_squared_error(y_test, pred) ** .5\n",
    "mae_bagg=mean_absolute_error(y_test, pred)\n",
    "print('*'*50)\n",
    "print(f'RMSE of {bagg} model is: {err}')\n",
    "print(f'MAE value of {bagg} is: {np.mean(mean_absolute_error(y_test, pred))}')\n",
    "print('*'*50)"
   ]
  },
  {
   "cell_type": "markdown",
   "id": "JD6Xe9-GUHq0",
   "metadata": {
    "id": "JD6Xe9-GUHq0"
   },
   "source": [
    "## Comapring MAE of DecisionTree with Bagged Tree"
   ]
  },
  {
   "cell_type": "code",
   "execution_count": 16,
   "id": "RznBy-gSUNs9",
   "metadata": {
    "colab": {
     "base_uri": "https://localhost:8080/",
     "height": 617
    },
    "id": "RznBy-gSUNs9",
    "outputId": "b6458b81-5830-4583-a73d-7b2da55c874a"
   },
   "outputs": [
    {
     "data": {
      "text/plain": [
       "(array([0.  , 0.01, 0.02, 0.03, 0.04, 0.05]),\n",
       " <a list of 6 Text major ticklabel objects>)"
      ]
     },
     "execution_count": 16,
     "metadata": {},
     "output_type": "execute_result"
    },
    {
     "data": {
      "image/png": "[encoded data removed]",
      "text/plain": [
       "<Figure size 864x576 with 1 Axes>"
      ]
     },
     "metadata": {
      "needs_background": "light"
     },
     "output_type": "display_data"
    }
   ],
   "source": [
    "mae_score = np.zeros(4)\n",
    "mae_score [0] = mae_reg\n",
    "mae_score [1] = mae_bagg\n",
    "#ploting Comparision\n",
    "plt.figure(figsize=(12,8))\n",
    "colors = cm.rainbow(np.linspace(0, 1, 5))\n",
    "labels = ['Decision Tree', 'Bagged Tree']\n",
    "plt.bar(labels,\n",
    " mae_score[:2],\n",
    " color = colors)\n",
    "plt.xlabel('MAE',fontsize=18)\n",
    "plt.ylabel('MAE',fontsize=18)\n",
    "plt.title('MAE of various Trees',fontsize=20)\n",
    "plt.xticks(rotation=45,fontsize=12)\n",
    "plt.yticks(fontsize=12)"
   ]
  },
  {
   "cell_type": "markdown",
   "id": "wYCktMyUZPts",
   "metadata": {
    "id": "wYCktMyUZPts"
   },
   "source": [
    "##  MAE express average model prediction error in units of the variable of interest. Both metrics can range from 0 to ∞ and are indifferent to the direction of errors. They are negatively-oriented scores, which means lower values are better. So, In above case Bagged Tree is better."
   ]
  },
  {
   "cell_type": "markdown",
   "id": "PCb3YQ0KYQFH",
   "metadata": {
    "id": "PCb3YQ0KYQFH"
   },
   "source": [
    "## Applying random forests"
   ]
  },
  {
   "cell_type": "code",
   "execution_count": 17,
   "id": "rMhOZjBaPz4Y",
   "metadata": {
    "colab": {
     "base_uri": "https://localhost:8080/",
     "height": 0
    },
    "id": "rMhOZjBaPz4Y",
    "outputId": "5eb26515-3fd2-4420-e6f6-a5203b791b59"
   },
   "outputs": [
    {
     "name": "stdout",
     "output_type": "stream",
     "text": [
      "**************************************************\n",
      "RMSE of RandomForestRegressor() model is: 0.07914474098512707\n",
      "MAE value of RandomForestRegressor() is: 0.03589077227274636\n",
      "**************************************************\n"
     ]
    }
   ],
   "source": [
    "ram = RandomForestRegressor()\n",
    "ram.fit(X_train,y_train)\n",
    "pred = ram.predict(X_test)\n",
    "err = mean_squared_error(y_test, pred) ** .5\n",
    "mae_ram=mean_absolute_error(y_test, pred)\n",
    "mae_score [2] = mae_ram\n",
    "print('*'*50)\n",
    "print(f'RMSE of {ram} model is: {err}')\n",
    "print(f'MAE value of {ram} is: {np.mean(mean_absolute_error(y_test, pred))}')\n",
    "print('*'*50)"
   ]
  },
  {
   "cell_type": "code",
   "execution_count": 18,
   "id": "NJ767XfzYGfU",
   "metadata": {
    "colab": {
     "base_uri": "https://localhost:8080/",
     "height": 624
    },
    "id": "NJ767XfzYGfU",
    "outputId": "c333622a-3cf9-4e6f-9991-91fb92c3778c"
   },
   "outputs": [
    {
     "data": {
      "text/plain": [
       "(array([0.   , 0.005, 0.01 , 0.015, 0.02 , 0.025, 0.03 , 0.035, 0.04 ]),\n",
       " <a list of 9 Text major ticklabel objects>)"
      ]
     },
     "execution_count": 18,
     "metadata": {},
     "output_type": "execute_result"
    },
    {
     "data": {
      "image/png": "[encoded data removed]",
      "text/plain": [
       "<Figure size 864x576 with 1 Axes>"
      ]
     },
     "metadata": {
      "needs_background": "light"
     },
     "output_type": "display_data"
    }
   ],
   "source": [
    "#ploting Comparision\n",
    "plt.figure(figsize=(12,8))\n",
    "colors = cm.rainbow(np.linspace(0, 1, 5))\n",
    "labels = ['Bagged Tree','Random Forest']\n",
    "plt.bar(labels,\n",
    " mae_score[1:3],\n",
    " color = colors)\n",
    "plt.xlabel('MAE',fontsize=18)\n",
    "plt.ylabel('MAE',fontsize=18)\n",
    "plt.title('MAE of various Trees',fontsize=20)\n",
    "plt.xticks(rotation=45,fontsize=12)\n",
    "plt.yticks(fontsize=12)"
   ]
  },
  {
   "cell_type": "markdown",
   "id": "b4mgqbfFbhCU",
   "metadata": {
    "id": "b4mgqbfFbhCU"
   },
   "source": [
    "### From above graph its diffcult to figure out the improvement of Random Forest over Bagged Tree so for that purpose we are printing their MAE values "
   ]
  },
  {
   "cell_type": "code",
   "execution_count": 19,
   "id": "lx5miaZebUK8",
   "metadata": {
    "colab": {
     "base_uri": "https://localhost:8080/",
     "height": 0
    },
    "id": "lx5miaZebUK8",
    "outputId": "85285c4a-b6ec-48b0-a986-f56d428ec748"
   },
   "outputs": [
    {
     "name": "stdout",
     "output_type": "stream",
     "text": [
      "MAE value of Bagged Tree 0.037915900829841954\n",
      "MAE value of Random Forest 0.03589077227274636\n"
     ]
    }
   ],
   "source": [
    "print(\"MAE value of Bagged Tree\", mae_bagg)\n",
    "print(\"MAE value of Random Forest\", mae_ram)"
   ]
  },
  {
   "cell_type": "markdown",
   "id": "N8yrDD6eZC2K",
   "metadata": {
    "id": "N8yrDD6eZC2K"
   },
   "source": [
    "### From above values we can conculd that Random Forest shows little bit improvement in MAE over Bagged Tree"
   ]
  },
  {
   "cell_type": "markdown",
   "id": "2dOZFG5-c1z4",
   "metadata": {
    "id": "2dOZFG5-c1z4"
   },
   "source": [
    "##  Applying boosting "
   ]
  },
  {
   "cell_type": "code",
   "execution_count": 20,
   "id": "VaceCcNcY81z",
   "metadata": {
    "colab": {
     "base_uri": "https://localhost:8080/",
     "height": 0
    },
    "id": "VaceCcNcY81z",
    "outputId": "5660b1b7-d242-45cd-a023-b2a9a093e836"
   },
   "outputs": [
    {
     "name": "stdout",
     "output_type": "stream",
     "text": [
      "**************************************************\n",
      "RMSE of GradientBoostingRegressor() model is: 0.0832590179090765\n",
      "MAE value of GradientBoostingRegressor() is: 0.044711847409840424\n",
      "**************************************************\n"
     ]
    }
   ],
   "source": [
    "xgb = GradientBoostingRegressor()\n",
    "xgb.fit(X_train,y_train)\n",
    "pred = xgb.predict(X_test)\n",
    "err = mean_squared_error(y_test, pred) ** .5\n",
    "mae_xgb=mean_absolute_error(y_test, pred)\n",
    "mae_score [3] = mae_xgb\n",
    "print('*'*50)\n",
    "print(f'RMSE of {xgb} model is: {err}')\n",
    "print(f'MAE value of {xgb} is: {np.mean(mean_absolute_error(y_test, pred))}')\n",
    "print('*'*50)"
   ]
  },
  {
   "cell_type": "markdown",
   "id": "aj_UwSMcgfc2",
   "metadata": {
    "id": "aj_UwSMcgfc2"
   },
   "source": [
    "## the most important predictors in the boosted model"
   ]
  },
  {
   "cell_type": "code",
   "execution_count": 24,
   "id": "7QTyQGXbgNPo",
   "metadata": {
    "colab": {
     "base_uri": "https://localhost:8080/",
     "height": 0
    },
    "id": "7QTyQGXbgNPo",
    "outputId": "8f7e0106-a106-4688-fb86-f7399e1a71be"
   },
   "outputs": [
    {
     "name": "stdout",
     "output_type": "stream",
     "text": [
      "[1.97671835e-03 1.67362965e-04 8.89693980e-04 0.00000000e+00\n",
      " 1.34538727e-01 5.28084880e-03 3.15211042e-04 9.00071399e-05\n",
      " 7.50122850e-03 1.14640238e-03 2.27315000e-05 1.62065970e-04\n",
      " 0.00000000e+00 1.20416112e-03 1.18941617e-03 1.06299557e-03\n",
      " 6.14220875e-05 4.53478806e-01 2.70157353e-04 3.42146393e-04\n",
      " 1.26188517e-04 7.94832243e-04 3.76075998e-03 5.88882565e-02\n",
      " 1.49711062e-03 2.25234805e-04 4.22263191e-04 2.25147869e-03\n",
      " 7.11792269e-04 2.73936503e-03 4.96401587e-04 1.01421975e-03\n",
      " 3.56545633e-04 1.07341713e-04 9.55515504e-05 4.04128424e-02\n",
      " 0.00000000e+00 1.94562380e-02 6.81566257e-05 1.14855256e-03\n",
      " 1.31860617e-01 7.96666853e-02 4.30964478e-02 1.10301596e-03]\n"
     ]
    }
   ],
   "source": [
    "print(xgb.feature_importances_)"
   ]
  },
  {
   "cell_type": "code",
   "execution_count": 26,
   "id": "6REKxhnaglmO",
   "metadata": {
    "colab": {
     "base_uri": "https://localhost:8080/",
     "height": 265
    },
    "id": "6REKxhnaglmO",
    "outputId": "ba5eea20-fe20-4317-d2fd-832e2fef55b7"
   },
   "outputs": [
    {
     "data": {
      "image/png": "[encoded data removed]",
      "text/plain": [
       "<Figure size 432x288 with 1 Axes>"
      ]
     },
     "metadata": {
      "needs_background": "light"
     },
     "output_type": "display_data"
    }
   ],
   "source": [
    "# plot\n",
    "plt.bar(range(len(xgb.feature_importances_)), xgb.feature_importances_)\n",
    "plt.show()"
   ]
  },
  {
   "cell_type": "markdown",
   "id": "olMirAcJiCK1",
   "metadata": {
    "id": "olMirAcJiCK1"
   },
   "source": [
    "## the most important predictors in the boosted model is on 18 as shown in above graph and in dataset on number 18 is **ebitda_w**            "
   ]
  },
  {
   "cell_type": "markdown",
   "id": "8fpaPiGEe5tP",
   "metadata": {
    "id": "8fpaPiGEe5tP"
   },
   "source": [
    "## Overall Comparsion of All Trees"
   ]
  },
  {
   "cell_type": "code",
   "execution_count": 22,
   "id": "c6d0D94ye_IN",
   "metadata": {
    "colab": {
     "base_uri": "https://localhost:8080/",
     "height": 661
    },
    "id": "c6d0D94ye_IN",
    "outputId": "c5fc19d1-5ac3-49d9-9eb4-165af9d40021"
   },
   "outputs": [
    {
     "data": {
      "text/plain": [
       "(array([0.  , 0.01, 0.02, 0.03, 0.04, 0.05]),\n",
       " <a list of 6 Text major ticklabel objects>)"
      ]
     },
     "execution_count": 22,
     "metadata": {},
     "output_type": "execute_result"
    },
    {
     "data": {
      "image/png": "[encoded data removed]",
      "text/plain": [
       "<Figure size 864x576 with 1 Axes>"
      ]
     },
     "metadata": {
      "needs_background": "light"
     },
     "output_type": "display_data"
    }
   ],
   "source": [
    "#ploting Comparision\n",
    "plt.figure(figsize=(12,8))\n",
    "colors = cm.rainbow(np.linspace(0, 1, 5))\n",
    "labels = ['Decision Tree','Bagged Tree','Random Forest','Boosted Tree (XGBoost)']\n",
    "plt.bar(labels,\n",
    " mae_score[0:5],\n",
    " color = colors)\n",
    "plt.xlabel('MAE',fontsize=18)\n",
    "plt.ylabel('MAE',fontsize=18)\n",
    "plt.title('MAE of various Trees',fontsize=20)\n",
    "plt.xticks(rotation=45,fontsize=12)\n",
    "plt.yticks(fontsize=12)"
   ]
  },
  {
   "cell_type": "markdown",
   "id": "3RJICf1dgHU_",
   "metadata": {
    "id": "3RJICf1dgHU_"
   },
   "source": [
    "### From above graph we can make conculsion that Random Forest outperforms all others models in comparision of MAE."
   ]
  }
 ],
 "metadata": {
  "colab": {
   "name": "Task.ipynb",
   "provenance": []
  },
  "kernelspec": {
   "display_name": "Python 3 (ipykernel)",
   "language": "python",
   "name": "python3"
  },
  "language_info": {
   "codemirror_mode": {
    "name": "ipython",
    "version": 3
   },
   "file_extension": ".py",
   "mimetype": "text/x-python",
   "name": "python",
   "nbconvert_exporter": "python",
   "pygments_lexer": "ipython3",
   "version": "3.9.12"
  }
 },
 "nbformat": 4,
 "nbformat_minor": 5
}
